{
 "cells": [
  {
   "cell_type": "markdown",
   "metadata": {},
   "source": [
    "## CGM2.1 Modellling \n",
    "\n",
    "run both CGM2.1 Calibration and Fitting Operations \n"
   ]
  },
  {
   "cell_type": "code",
   "execution_count": 10,
   "metadata": {
    "collapsed": true
   },
   "outputs": [],
   "source": [
    "import logging \n",
    "from argparse import Namespace\n",
    "\n",
    "# pyCGM2 libraries\n",
    "import pyCGM2\n",
    "from pyCGM2 import enums\n",
    "from pyCGM2.Model.CGM2.coreApps import cgm2_1,cgmUtils\n",
    "from pyCGM2.Tools import btkTools\n",
    "from pyCGM2.Utils import files\n",
    "from pyCGM2.Eclipse import vskTools"
   ]
  },
  {
   "cell_type": "code",
   "execution_count": 18,
   "metadata": {
    "collapsed": true
   },
   "outputs": [],
   "source": [
    "# DATA\n",
    "\n",
    "DATA_PATH = \"C:\\\\Users\\\\HLS501\\\\Documents\\\\VICON DATA\\\\pyCGM2-Data\\\\Datasets Tests\\\\didier\\\\08_02_18_Vincent Pere\\\\\"\n",
    "DATA_PATH_OUT = DATA_PATH\n",
    "calibrateFilenameLabelled  = \"08_02_18_Vincent_Pere_Statique_000_MOKKA.c3d\"\n",
    "reconstructFilenameLabelled = \"08_02_18_Vincent_Pere_Gait_000_MOKKA.c3d\"\n",
    "\n",
    "\n"
   ]
  },
  {
   "cell_type": "code",
   "execution_count": 19,
   "metadata": {},
   "outputs": [],
   "source": [
    "# \n",
    "args = Namespace()\n",
    "args.leftFlatFoot = None\n",
    "args.rightFlatFoot = None\n",
    "args.markerDiameter = None\n",
    "args.pointSuffix = None\n",
    "args.fileSuffix = None\n",
    "args.mfpa = None\n",
    "args.proj = None\n",
    "args.check = True\n",
    "\n",
    "# --------------------------GLOBAL SETTINGS ------------------------------------\n",
    "# global setting ( in user/AppData)\n",
    "settings = files.openJson(pyCGM2.CONFIG.PYCGM2_APPDATA_PATH,\"CGM2_1-pyCGM2.settings\")\n",
    "\n",
    "\n",
    "# settings overloading\n",
    "argsManager = cgmUtils.argsManager_cgm(settings,args)\n",
    "leftFlatFoot = argsManager.getLeftFlatFoot()\n",
    "rightFlatFoot = argsManager.getRightFlatFoot()\n",
    "markerDiameter = argsManager.getMarkerDiameter()\n",
    "pointSuffix = argsManager.getPointSuffix(\"cgm2_1\")\n",
    "momentProjection =  argsManager.getMomentProjection()\n",
    "mfpa = argsManager.getManualForcePlateAssign() \n",
    "\n",
    "\n",
    "# Translator\n",
    "translators = files.getTranslators(DATA_PATH,\"CGM2_1.translators\")\n",
    "if not translators: translators = settings[\"Translators\"]\n",
    "    \n",
    " "
   ]
  },
  {
   "cell_type": "markdown",
   "metadata": {},
   "source": [
    "## Calibration"
   ]
  },
  {
   "cell_type": "code",
   "execution_count": 21,
   "metadata": {
    "collapsed": true
   },
   "outputs": [],
   "source": [
    "hjcMethod = settings[\"Calibration\"][\"HJC\"]\n",
    "\n",
    "required_mp = {\n",
    "    \"Bodymass\": 70,\n",
    "    \"Height\": 1700,\n",
    "    \"LeftLegLength\": 890,\n",
    "    \"RightLegLength\": 890,\n",
    "    \"LeftKneeWidth\": 150,\n",
    "    \"RightKneeWidth\": 150,\n",
    "    \"LeftAnkleWidth\": 88,\n",
    "    \"RightAnkleWidth\": 99,\n",
    "    \"LeftSoleDelta\": 0,\n",
    "    \"RightSoleDelta\": 0\n",
    "}\n",
    "optional_mp = {\n",
    "    \"InterAsisDistance\": 0,\n",
    "    \"LeftAsisTrocanterDistance\": 0,\n",
    "    \"LeftTibialTorsion\": 0,\n",
    "    \"LeftThighRotation\": 0,\n",
    "    \"LeftShankRotation\": 0,\n",
    "    \"RightAsisTrocanterDistance\": 0,\n",
    "    \"RightTibialTorsion\": 0,\n",
    "    \"RightThighRotation\": 0,\n",
    "    \"RightShankRotation\": 0,\n",
    "}\n"
   ]
  },
  {
   "cell_type": "code",
   "execution_count": 22,
   "metadata": {
    "collapsed": true
   },
   "outputs": [
    {
     "name": "stderr",
     "output_type": "stream",
     "text": [
      "WARNING:root:CASE FOUND ===> Left Side = Knee and Ankle Medial\n",
      "WARNING:root:CASE FOUND ===> Right Side = Knee and Ankle Medial\n"
     ]
    }
   ],
   "source": [
    "model,acqStatic = cgm2_1.calibrate(DATA_PATH,calibrateFilenameLabelled,translators,required_mp,optional_mp,\n",
    "              leftFlatFoot,rightFlatFoot,markerDiameter,hjcMethod,\n",
    "              pointSuffix) "
   ]
  },
  {
   "cell_type": "markdown",
   "metadata": {},
   "source": [
    "## Fitting"
   ]
  },
  {
   "cell_type": "code",
   "execution_count": 24,
   "metadata": {
    "collapsed": true
   },
   "outputs": [],
   "source": [
    "#Fitting\n",
    "\n",
    "acqGait = cgm2_1.fitting(model,DATA_PATH, reconstructFilenameLabelled,\n",
    "                    translators,\n",
    "                    markerDiameter,\n",
    "                    pointSuffix,\n",
    "                    mfpa,momentProjection)\n",
    "    \n",
    "# writer\n",
    "if fileSuffix is not None:\n",
    "    c3dFilename = str(reconstructFilenameLabelled[:-4]+\"-modelled-\"+fileSuffix+\".c3d\")\n",
    "else:\n",
    "    c3dFilename = str(reconstructFilenameLabelled[:-4]+\"-modelled.c3d\")\n",
    "\n",
    "btkTools.smartWriter(acqGait, str(DATA_PATH_OUT+c3dFilename))\n",
    "logging.info(\"c3d file (%s) generated\" %(c3dFilename) )\n",
    "    \n",
    "            "
   ]
  }
 ],
 "metadata": {
  "kernelspec": {
   "display_name": "Python 2",
   "language": "python",
   "name": "python2"
  },
  "language_info": {
   "codemirror_mode": {
    "name": "ipython",
    "version": 2
   },
   "file_extension": ".py",
   "mimetype": "text/x-python",
   "name": "python",
   "nbconvert_exporter": "python",
   "pygments_lexer": "ipython2",
   "version": "2.7.13"
  }
 },
 "nbformat": 4,
 "nbformat_minor": 2
}
