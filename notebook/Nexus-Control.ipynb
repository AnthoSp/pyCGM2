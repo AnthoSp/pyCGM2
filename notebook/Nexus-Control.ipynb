{
 "cells": [
  {
   "cell_type": "code",
   "execution_count": 2,
   "metadata": {},
   "outputs": [],
   "source": [
    "import pyCGM2\n",
    "import ViconNexus\n",
    "NEXUS = ViconNexus.ViconNexus()\n",
    "NEXUS_PYTHON_CONNECTED = NEXUS.Client.IsConnected()"
   ]
  },
  {
   "cell_type": "code",
   "execution_count": 14,
   "metadata": {},
   "outputs": [],
   "source": [
    "# -----pipeline--------\n",
    "\n",
    "DATA_PATH= \"C:\\\\Users\\\\HLS501\\\\Documents\\\\VICON DATA\\\\pyCGM2-Data\\\\operations\\\\jupyter\\\\Nexus Control\\\\\"\n",
    "\n",
    "staticTrial = \"PN01OP01S01STAT.c3d\"\n",
    "modelledDynamicTrials =  [\"PN01OP01S01SS05.c3d\",\"PN01OP01S01SS07.c3d\"]   \n",
    "\n",
    "if NEXUS_PYTHON_CONNECTED: \n",
    "\n",
    "    staticTrialNoExt = staticTrial[:-4]\n",
    "    NEXUS.OpenTrial( str(DATA_PATH+staticTrialNoExt), 30 )\n",
    "    NEXUS.RunPipeline( 'pyCGM2-CGM2_1-Calibration', 'Private', 45 )\n",
    "    NEXUS.SaveTrial(30)\n",
    "\n",
    "    for dynamicTrialName in modelledDynamicTrials:\n",
    "        dynamicTrialNameNoExt = dynamicTrialName[:-4]\n",
    "        NEXUS.OpenTrial( str(DATA_PATH+dynamicTrialNameNoExt), 30 )\n",
    "        NEXUS.RunPipeline( 'pyCGM2-CGM2_1-Fitting', 'Private', 45 )\n",
    "        NEXUS.SaveTrial(30)"
   ]
  },
  {
   "cell_type": "code",
   "execution_count": null,
   "metadata": {},
   "outputs": [],
   "source": []
  }
 ],
 "metadata": {
  "kernelspec": {
   "display_name": "Python 2",
   "language": "python",
   "name": "python2"
  },
  "language_info": {
   "codemirror_mode": {
    "name": "ipython",
    "version": 2
   },
   "file_extension": ".py",
   "mimetype": "text/x-python",
   "name": "python",
   "nbconvert_exporter": "python",
   "pygments_lexer": "ipython2",
   "version": "2.7.13"
  }
 },
 "nbformat": 4,
 "nbformat_minor": 2
}
